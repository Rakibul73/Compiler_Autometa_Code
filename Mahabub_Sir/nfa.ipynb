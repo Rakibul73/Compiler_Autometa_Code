{
 "cells": [
  {
   "cell_type": "code",
   "execution_count": null,
   "metadata": {},
   "outputs": [],
   "source": [
    "# An NFA accepting all strings that in 10 in substrig\n",
    "class NFA:\n",
    "    def __init__(self, states, alphabet, transitions, start_state, accepting_states):\n",
    "        self.states = states\n",
    "        self.alphabet = alphabet\n",
    "        self.transitions = transitions\n",
    "        self.start_state = start_state\n",
    "        self.accepting_states = accepting_states\n",
    "\n",
    "    def accepts(self, string):\n",
    "        current_states = {self.start_state}\n",
    "        for char in string:\n",
    "            next_states = set()\n",
    "            for state in current_states:\n",
    "                if (state, char) in self.transitions:\n",
    "                    next_states.update(self.transitions[(state, char)])\n",
    "            current_states = next_states\n",
    "        return bool(current_states & self.accepting_states)\n",
    "\n",
    "# Define the NFA components\n",
    "states = {\"q0\", \"q1\", \"q2\"}\n",
    "alphabet = {\"0\", \"1\"}\n",
    "transitions = {\n",
    "    (\"q0\", \"0\"): {\"q0\"},\n",
    "    (\"q0\", \"1\"): {\"q1\"},\n",
    "    (\"q1\", \"0\"): {\"q2\"},\n",
    "    (\"q1\", \"1\"): {\"q1\"},\n",
    "    (\"q2\", \"0\"): {\"q2\"},\n",
    "    (\"q2\", \"1\"): {\"q2\"}\n",
    "}\n",
    "start_state = \"q0\"\n",
    "accepting_states = {\"q2\"}\n",
    "\n",
    "# Create the NFA instance\n",
    "nfa = NFA(states, alphabet, transitions, start_state, accepting_states)\n",
    "\n",
    "# Test some strings\n",
    "print(\"01\" , nfa.accepts(\"01\"))      # True\n",
    "print(\"101\" , nfa.accepts(\"101\"))     # True\n",
    "print(  \"1101\" , nfa.accepts(\"1101\"))    # True\n",
    "print(  \"001\" , nfa.accepts(\"001\"))     # True\n",
    "print(  \"10001\" , nfa.accepts(\"10001\"))   # True\n",
    "print(  \"111\" , nfa.accepts(\"111\"))     # False\n",
    "print(  \"0\" , nfa.accepts(\"0\"))       # False\n",
    "print(  \"1\" , nfa.accepts(\"1\"))       # False\n"
   ]
  },
  {
   "cell_type": "markdown",
   "metadata": {},
   "source": [
    "### Alternative"
   ]
  },
  {
   "cell_type": "code",
   "execution_count": null,
   "metadata": {},
   "outputs": [],
   "source": [
    "from automata.fa.nfa import NFA\n",
    "from visual_automata.fa.nfa import VisualNFA"
   ]
  },
  {
   "cell_type": "code",
   "execution_count": null,
   "metadata": {},
   "outputs": [],
   "source": [
    "# Define an visual_automata NFA that can accept any string with the pattern 10, 1010, 101010.\n",
    "\n",
    "nfa = VisualNFA(\n",
    "    states={\"q0\", \"q1\", \"q2\"},\n",
    "    input_symbols={\"0\", \"1\"},\n",
    "    transitions={\n",
    "        \"q0\": {\"\": {\"q2\"}, \"1\": {\"q1\"}},\n",
    "        \"q1\": {\"1\": {\"q2\"}, \"0\": {\"q0\", \"q2\"}},\n",
    "        \"q2\": {},\n",
    "    },\n",
    "    initial_state=\"q0\",\n",
    "    final_states={\"q0\"},\n",
    ")"
   ]
  },
  {
   "cell_type": "code",
   "execution_count": null,
   "metadata": {},
   "outputs": [],
   "source": [
    "nfa.input_check(\"10100\")"
   ]
  },
  {
   "cell_type": "markdown",
   "metadata": {},
   "source": [
    "### Alternative"
   ]
  },
  {
   "cell_type": "code",
   "execution_count": null,
   "metadata": {},
   "outputs": [],
   "source": [
    "from automata.fa.nfa import NFA\n",
    "from automata.fa.dfa import DFA\n",
    "import automata\n",
    "# NFA which matches strings beginning with 'a', ending with 'a', and containing\n",
    "# no consecutive 'b's\n",
    "nfa = NFA(\n",
    "    states={'q0', 'q1', 'q2'},\n",
    "    input_symbols={'a', 'b'},\n",
    "    transitions={\n",
    "        'q0': {'a': {'q1'}},\n",
    "        # Use '' as the key name for empty string (lambda/epsilon) transitions\n",
    "        'q1': {'a': {'q1'}, '': {'q2'}},\n",
    "        'q2': {'b': {'q0'}}\n",
    "    },\n",
    "    initial_state='q0',\n",
    "    final_states={'q1'}\n",
    ")"
   ]
  },
  {
   "cell_type": "code",
   "execution_count": null,
   "metadata": {},
   "outputs": [],
   "source": [
    "import pandas as pd\n",
    "\n",
    "def make_table(target_fa) -> pd.DataFrame:\n",
    "    initial_state = target_fa.initial_state\n",
    "    final_states = target_fa.final_states\n",
    "\n",
    "    table = {}\n",
    "\n",
    "    for from_state, to_state, symbol in target_fa.iter_transitions():\n",
    "        # Prepare nice string for from_state\n",
    "        if isinstance(from_state, frozenset):\n",
    "            from_state_str = str(set(from_state))\n",
    "        else:\n",
    "            from_state_str = str(from_state)\n",
    "\n",
    "        if from_state in final_states:\n",
    "            from_state_str = \"*\" + from_state_str\n",
    "        if from_state == initial_state:\n",
    "            from_state_str = \"→\" + from_state_str\n",
    "\n",
    "        # Prepare nice string for to_state\n",
    "        if isinstance(to_state, frozenset):\n",
    "            to_state_str = str(set(to_state))\n",
    "        else:\n",
    "            to_state_str = str(to_state)\n",
    "\n",
    "        if to_state in final_states:\n",
    "            to_state_str = \"*\" + to_state_str\n",
    "\n",
    "        # Prepare nice symbol\n",
    "        if symbol == \"\":\n",
    "            symbol = \"λ\"\n",
    "\n",
    "        from_state_dict = table.setdefault(from_state_str, dict())\n",
    "        from_state_dict.setdefault(symbol, set()).add(to_state_str)\n",
    "\n",
    "    # Reformat table for singleton sets\n",
    "    for symbol_dict in table.values():\n",
    "        for symbol in symbol_dict:\n",
    "            if len(symbol_dict[symbol]) == 1:\n",
    "                symbol_dict[symbol] = symbol_dict[symbol].pop()\n",
    "\n",
    "\n",
    "    df = pd.DataFrame.from_dict(table).fillna(\"∅\").T\n",
    "    return df.reindex(sorted(df.columns), axis=1)\n"
   ]
  },
  {
   "cell_type": "code",
   "execution_count": null,
   "metadata": {},
   "outputs": [],
   "source": [
    "input_str = 'abba'"
   ]
  },
  {
   "cell_type": "code",
   "execution_count": null,
   "metadata": {},
   "outputs": [],
   "source": [
    "make_table(nfa)"
   ]
  },
  {
   "cell_type": "code",
   "execution_count": null,
   "metadata": {},
   "outputs": [],
   "source": [
    "nfa.read_input_stepwise(input_str)"
   ]
  },
  {
   "cell_type": "code",
   "execution_count": null,
   "metadata": {},
   "outputs": [],
   "source": [
    "if nfa.accepts_input(input_str):\n",
    "    print('accepted')\n",
    "    print(nfa.read_input(input_str))\n",
    "else:\n",
    "    print('rejected')"
   ]
  }
 ],
 "metadata": {
  "kernelspec": {
   "display_name": "Python 3",
   "language": "python",
   "name": "python3"
  },
  "language_info": {
   "codemirror_mode": {
    "name": "ipython",
    "version": 3
   },
   "file_extension": ".py",
   "mimetype": "text/x-python",
   "name": "python",
   "nbconvert_exporter": "python",
   "pygments_lexer": "ipython3",
   "version": "3.11.0"
  }
 },
 "nbformat": 4,
 "nbformat_minor": 2
}

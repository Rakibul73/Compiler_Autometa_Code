{
 "cells": [
  {
   "cell_type": "code",
   "execution_count": null,
   "metadata": {},
   "outputs": [],
   "source": [
    "# L = { W | W L = { W | W starts with 1 and ends with 0}\n",
    "# Can use for any qus. just make your own transition diagram \n",
    "# and input that transition"
   ]
  },
  {
   "cell_type": "code",
   "execution_count": null,
   "metadata": {},
   "outputs": [],
   "source": [
    "\n",
    "from automata.fa.dfa import DFA\n",
    "from visual_automata.fa.dfa import VisualDFA\n",
    "\n",
    "dfa = VisualDFA(\n",
    "    states = {'q0','q1','q2', 'd'},\n",
    "    input_symbols = {'0', '1'},\n",
    "    transitions = {\n",
    "    'q0': {'0':'d', '1' :'q1'},\n",
    "    'q1': {'0':'q2', '1':'q1'},\n",
    "    'q2': {'0': 'q2','1':'q1'},\n",
    "    'd':  {'0':'d', '1':'d'}\n",
    "    },\n",
    "    initial_state = 'q0',\n",
    "    final_states= {'q2'}\n",
    ")"
   ]
  },
  {
   "cell_type": "code",
   "execution_count": null,
   "metadata": {},
   "outputs": [],
   "source": [
    "dfa.table"
   ]
  },
  {
   "cell_type": "code",
   "execution_count": null,
   "metadata": {},
   "outputs": [],
   "source": [
    "dfa.show_diagram()"
   ]
  },
  {
   "cell_type": "code",
   "execution_count": null,
   "metadata": {},
   "outputs": [],
   "source": [
    "dfa.input_check(\"1001\")"
   ]
  },
  {
   "cell_type": "code",
   "execution_count": null,
   "metadata": {},
   "outputs": [],
   "source": [
    "dfa.show_diagram(\"1000\")"
   ]
  }
 ],
 "metadata": {
  "kernelspec": {
   "display_name": "Python 3",
   "language": "python",
   "name": "python3"
  },
  "language_info": {
   "codemirror_mode": {
    "name": "ipython",
    "version": 3
   },
   "file_extension": ".py",
   "mimetype": "text/x-python",
   "name": "python",
   "nbconvert_exporter": "python",
   "pygments_lexer": "ipython3",
   "version": "3.11.0"
  }
 },
 "nbformat": 4,
 "nbformat_minor": 2
}

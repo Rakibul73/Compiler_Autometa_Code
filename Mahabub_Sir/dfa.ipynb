{
 "cells": [
  {
   "cell_type": "code",
   "execution_count": null,
   "metadata": {},
   "outputs": [],
   "source": [
    "# L = { W | W L = { W | W starts with 1 and ends with 0}\n",
    "# Can use for any qus. just make your own transition diagram \n",
    "# and input that transition"
   ]
  },
  {
   "cell_type": "code",
   "execution_count": null,
   "metadata": {},
   "outputs": [],
   "source": [
    "\n",
    "from automata.fa.dfa import DFA\n",
    "from visual_automata.fa.dfa import VisualDFA\n",
    "\n",
    "dfa = VisualDFA(\n",
    "    states = {'q0','q1','q2', 'd'},\n",
    "    input_symbols = {'0', '1'},\n",
    "    transitions = {\n",
    "    'q0': {'0':'d', '1' :'q1'},\n",
    "    'q1': {'0':'q2', '1':'q1'},\n",
    "    'q2': {'0': 'q2','1':'q1'},\n",
    "    'd':  {'0':'d', '1':'d'}\n",
    "    },\n",
    "    initial_state = 'q0',\n",
    "    final_states= {'q2'}\n",
    ")"
   ]
  },
  {
   "cell_type": "code",
   "execution_count": null,
   "metadata": {},
   "outputs": [],
   "source": [
    "dfa.table"
   ]
  },
  {
   "cell_type": "code",
   "execution_count": null,
   "metadata": {},
   "outputs": [],
   "source": [
    "dfa.show_diagram()"
   ]
  },
  {
   "cell_type": "code",
   "execution_count": null,
   "metadata": {},
   "outputs": [],
   "source": [
    "dfa.input_check(\"1001\")"
   ]
  },
  {
   "cell_type": "code",
   "execution_count": null,
   "metadata": {},
   "outputs": [],
   "source": [
    "dfa.show_diagram(\"1000\")"
   ]
  },
  {
   "cell_type": "markdown",
   "metadata": {},
   "source": [
    "### Without any module\n",
    "\n",
    "#### input format:\n",
    "Enter states (space-separated integers): 0 1 <br>\n",
    "Enter alphabet (space-separated characters): 0 1 <br>\n",
    "Enter transition from 0 on 0: 0 <br>\n",
    "Enter transition from 0 on 1: 1 <br>\n",
    "Enter transition from 1 on 0: 1 <br>\n",
    "Enter transition from 1 on 1: 0 <br>\n",
    "Enter start state: 0 <br>\n",
    "Enter accept states (space-separated integers): 0 <br>\n",
    "Enter string to test: 1101 <br>\n",
    "\n",
    "#### Explanation:\n",
    "States: 0 1  <br>\n",
    "Alphabet: 0 1   <br>\n",
    "Transition Function:   <br>\n",
    "From state 0 on input 0: Transition to state 0   <br>\n",
    "From state 0 on input 1: Transition to state 1   <br>\n",
    "From state 1 on input 0: Transition to state 1   <br>\n",
    "From state 1 on input 1: Transition to state 0   <br>\n",
    "Start State: 0   <br>\n",
    "Accept States: 0   <br>"
   ]
  },
  {
   "cell_type": "code",
   "execution_count": null,
   "metadata": {},
   "outputs": [],
   "source": [
    "class DFA:\n",
    "    def __init__(self, states, alphabet, transition_function, start_state, accept_states):\n",
    "        self.states = states\n",
    "        self.alphabet = alphabet\n",
    "        self.transition_function = transition_function\n",
    "        self.start_state = start_state\n",
    "        self.accept_states = accept_states\n",
    "\n",
    "    def is_accepted(self, string):\n",
    "        current_state = self.start_state\n",
    "        for char in string:\n",
    "            if char not in self.alphabet:\n",
    "                return False\n",
    "            current_state = self.transition_function.get((current_state, char), None)\n",
    "            if current_state is None:\n",
    "                return False\n",
    "        return current_state in self.accept_states\n",
    "\n",
    "def get_user_input_dfa():\n",
    "    states = set(map(int, input(\"Enter states (space-separated integers): \").split()))\n",
    "    alphabet = set(input(\"Enter alphabet (space-separated characters): \").split())\n",
    "    transition_function = {}\n",
    "    for state in states:\n",
    "        for char in alphabet:\n",
    "            transition = int(input(f\"Enter transition from {state} on {char}: \"))\n",
    "            transition_function[(state, char)] = transition\n",
    "    start_state = int(input(\"Enter start state: \"))\n",
    "    accept_states = set(map(int, input(\"Enter accept states (space-separated integers): \").split()))\n",
    "    return DFA(states, alphabet, transition_function, start_state, accept_states)\n",
    "\n",
    "dfa = get_user_input_dfa()\n",
    "string = input(\"Enter string to test: \")\n",
    "if dfa.is_accepted(string):\n",
    "    print(\"Accepted\")\n",
    "else:\n",
    "    print(\"Rejected\")\n"
   ]
  }
 ],
 "metadata": {
  "kernelspec": {
   "display_name": "Python 3",
   "language": "python",
   "name": "python3"
  },
  "language_info": {
   "codemirror_mode": {
    "name": "ipython",
    "version": 3
   },
   "file_extension": ".py",
   "mimetype": "text/x-python",
   "name": "python",
   "nbconvert_exporter": "python",
   "pygments_lexer": "ipython3",
   "version": "3.11.0"
  }
 },
 "nbformat": 4,
 "nbformat_minor": 2
}

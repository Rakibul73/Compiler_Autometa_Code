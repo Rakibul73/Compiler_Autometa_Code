{
 "cells": [
  {
   "cell_type": "code",
   "execution_count": null,
   "metadata": {},
   "outputs": [],
   "source": [
    "# Write program to generate the three-address code from a source-language expression a =(-c*b)+(-c*d).\n",
    "\n",
    "def threeAddress(exp):\n",
    "\n",
    "    code = []\n",
    "\n",
    "    tokens = exp.split()\n",
    "    an = ''\n",
    "    for i, token in enumerate(tokens):\n",
    "        if token in ['+', '-', '*', '/']:\n",
    "            op1 = tokens[i - 1]\n",
    "            op2 = tokens[i + 1]\n",
    "            result = 't' + str(len(code))\n",
    "            if op1 == 'b)':\n",
    "                continue\n",
    "            code.append(result + ' = ' + op1 + ' ' + token + ' ' + op2)\n",
    "    res3 = 't'+str(len(code))\n",
    "    code.append(res3+'=(t0+t1)')\n",
    "    code.append('a=t2')\n",
    "\n",
    "    return code\n",
    "\n",
    "\n",
    "exp = \"a = (-c * b) + (-c * d)\"\n",
    "code = threeAddress(exp)\n",
    "print(code)\n"
   ]
  }
 ],
 "metadata": {
  "kernelspec": {
   "display_name": "Python 3",
   "language": "python",
   "name": "python3"
  },
  "language_info": {
   "codemirror_mode": {
    "name": "ipython",
    "version": 3
   },
   "file_extension": ".py",
   "mimetype": "text/x-python",
   "name": "python",
   "nbconvert_exporter": "python",
   "pygments_lexer": "ipython3",
   "version": "3.11.0"
  }
 },
 "nbformat": 4,
 "nbformat_minor": 2
}

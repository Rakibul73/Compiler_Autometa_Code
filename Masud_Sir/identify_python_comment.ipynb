{
 "cells": [
  {
   "cell_type": "code",
   "execution_count": null,
   "metadata": {},
   "outputs": [],
   "source": [
    "def is_comment(line):\n",
    "    # Check if the line starts with the '#' symbol for python comment\n",
    "    return line.strip().startswith('#')\n",
    "\n",
    "# Get a line of input from the user\n",
    "user_input = input(\"Enter a line of code: \")\n",
    "\n",
    "# Check if the input line is a comment or not\n",
    "if is_comment(user_input):\n",
    "    print(\"The given line is a comment.\")\n",
    "else:\n",
    "    print(\"The given line is not a comment.\")\n"
   ]
  }
 ],
 "metadata": {
  "kernelspec": {
   "display_name": "Python 3",
   "language": "python",
   "name": "python3"
  },
  "language_info": {
   "codemirror_mode": {
    "name": "ipython",
    "version": 3
   },
   "file_extension": ".py",
   "mimetype": "text/x-python",
   "name": "python",
   "nbconvert_exporter": "python",
   "pygments_lexer": "ipython3",
   "version": "3.11.0"
  }
 },
 "nbformat": 4,
 "nbformat_minor": 2
}

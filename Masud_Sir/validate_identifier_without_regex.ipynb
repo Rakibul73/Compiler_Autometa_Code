{
 "cells": [
  {
   "cell_type": "code",
   "execution_count": null,
   "metadata": {},
   "outputs": [],
   "source": [
    "\n",
    "def is_valid_identifier(identifier):\n",
    "    # Check if the identifier starts with a letter or underscore\n",
    "    if not (identifier[0].isalpha() or identifier[0] == '_'):\n",
    "        return False\n",
    "\n",
    "    # Check if the remaining characters are letters, digits, or underscores\n",
    "    for char in identifier[1:]:\n",
    "        if not (char.isalnum() or char == '_'):\n",
    "            return False\n",
    "\n",
    "    # Check if the identifier is a reserved word for python \n",
    "    reserved_words_python = set(['if', 'else', 'while', 'for', 'int', 'float', 'return', 'def', 'class', 'import',\n",
    "        'from', 'abs', 'all', 'any', 'bin', 'bool', 'bytearray',\n",
    "        'bytes', 'callable', 'chr', 'classmethod',\n",
    "        'compile', 'complex', 'delattr', 'dict', 'dir', 'divmod', 'enumerate', 'eval', 'exec',\n",
    "        'filter', 'float', 'format', 'frozenset', 'getattr', 'globals', 'hasattr', 'hash', 'help',\n",
    "        'hex', 'id', 'input', 'int', 'isinstance', 'issubclass', 'iter', 'len', 'list', 'locals',\n",
    "        'map', 'max', 'memoryview', 'min', 'next', 'object', 'oct', 'open', 'ord', 'pow', 'print',\n",
    "        'property', 'range', 'repr', 'reversed', 'round', 'set', 'setattr', 'slice', 'sorted',\n",
    "        'staticmethod', 'str', 'sum', 'super', 'tuple', 'type', 'vars', 'zip'])\n",
    "    if identifier in reserved_words_python:\n",
    "        return False\n",
    "    \n",
    "    # Check if the identifier is a reserved word for c++\n",
    "    reserved_words_c_and_cpp = set([\n",
    "        'auto', 'break', 'case', 'char', 'const', 'continue', 'default', 'do', 'double', 'else', \n",
    "        'enum', 'extern', 'float', 'for', 'goto', 'if', 'int', 'long', 'register', 'return', \n",
    "        'short', 'signed', 'sizeof', 'static', 'struct', 'switch', 'typedef', 'union', 'unsigned', \n",
    "        'void', 'volatile', 'while',\n",
    "        \n",
    "        # Additional keywords in C++\n",
    "        'bool', 'class', 'const_cast', 'delete', 'dynamic_cast', 'explicit', 'export', 'false', \n",
    "        'friend', 'inline', 'mutable', 'namespace', 'new', 'operator', 'private', 'protected', \n",
    "        'public', 'reinterpret_cast', 'static_cast', 'template', 'this', 'throw', 'true', 'try', \n",
    "        'typeid', 'typename', 'using', 'virtual', 'wchar_t'\n",
    "    ])\n",
    "    if identifier in reserved_words_c_and_cpp:\n",
    "        return False\n",
    "\n",
    "\n",
    "    return True\n",
    "\n",
    "if __name__ == \"__main__\":\n",
    "    user_input = input(\"Enter an identifier(For python or C/C++): \")\n",
    "\n",
    "    if is_valid_identifier(user_input):\n",
    "        print(f\"The identifier '{user_input}' is valid.\")\n",
    "    else:\n",
    "        print(f\"The identifier '{user_input}' is not valid.\")\n"
   ]
  }
 ],
 "metadata": {
  "kernelspec": {
   "display_name": "Python 3",
   "language": "python",
   "name": "python3"
  },
  "language_info": {
   "codemirror_mode": {
    "name": "ipython",
    "version": 3
   },
   "file_extension": ".py",
   "mimetype": "text/x-python",
   "name": "python",
   "nbconvert_exporter": "python",
   "pygments_lexer": "ipython3",
   "version": "3.11.0"
  }
 },
 "nbformat": 4,
 "nbformat_minor": 2
}

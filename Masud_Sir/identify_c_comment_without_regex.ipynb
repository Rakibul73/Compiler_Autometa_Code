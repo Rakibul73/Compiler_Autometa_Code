{
 "cells": [
  {
   "cell_type": "code",
   "execution_count": null,
   "metadata": {},
   "outputs": [],
   "source": [
    "def extract_comments(code):\n",
    "    in_multi_line_comment = False\n",
    "    comments = []\n",
    "\n",
    "    # Iterate through each line of the code\n",
    "    for line in code.split('\\n'):\n",
    "        # Check for multi-line comments\n",
    "        if '/*' in line:\n",
    "            in_multi_line_comment = True\n",
    "            if '*/' in line:\n",
    "                in_multi_line_comment = False\n",
    "            continue\n",
    "        elif '*/' in line:\n",
    "            in_multi_line_comment = False\n",
    "            continue\n",
    "\n",
    "        # Check for single-line comments\n",
    "        if '//' in line:\n",
    "            comments.append(line.split('//')[1].strip())\n",
    "        elif in_multi_line_comment:\n",
    "            comments.append(line.strip())\n",
    "\n",
    "    return comments\n",
    "\n",
    "# Example C/C++ code\n",
    "c_code = \"\"\"\n",
    "#include <stdio.h>\n",
    "// This is a single-line comment\n",
    "int main() {\n",
    "    /*\n",
    "    This is a\n",
    "    multi-line\n",
    "    comment\n",
    "    */\n",
    "    return 0; // Another single-line comment\n",
    "}\n",
    "\"\"\"\n",
    "\n",
    "# Extract comments from the code\n",
    "comments = extract_comments(c_code)\n",
    "\n",
    "# Print the extracted comments\n",
    "for comment in comments:\n",
    "    print(comment)\n"
   ]
  }
 ],
 "metadata": {
  "kernelspec": {
   "display_name": "Python 3",
   "language": "python",
   "name": "python3"
  },
  "language_info": {
   "codemirror_mode": {
    "name": "ipython",
    "version": 3
   },
   "file_extension": ".py",
   "mimetype": "text/x-python",
   "name": "python",
   "nbconvert_exporter": "python",
   "pygments_lexer": "ipython3",
   "version": "3.11.0"
  }
 },
 "nbformat": 4,
 "nbformat_minor": 2
}

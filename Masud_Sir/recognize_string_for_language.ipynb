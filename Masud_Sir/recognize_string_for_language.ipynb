{
 "cells": [
  {
   "cell_type": "markdown",
   "metadata": {},
   "source": [
    "Strings consisting of only the character 'a'. <br>\n",
    "Strings following the pattern 'a*b+' (one or more 'a' characters followed by one or more 'b' characters).<br>\n",
    "The exact string 'abb'."
   ]
  },
  {
   "cell_type": "code",
   "execution_count": null,
   "metadata": {},
   "outputs": [],
   "source": [
    "def is_language_a(s):\n",
    "    return all(char == 'a' for char in s)\n",
    "\n",
    "def is_language_a_star_b_plus(s):\n",
    "    a_count = 0\n",
    "    b_count = 0\n",
    "\n",
    "    for char in s:\n",
    "        if char == 'a':\n",
    "            if b_count:\n",
    "                return False\n",
    "            a_count += 1\n",
    "            \n",
    "            \n",
    "        elif char == 'b':\n",
    "            if a_count == 0:\n",
    "                return False\n",
    "            b_count += 1\n",
    "        else:\n",
    "            return False\n",
    "\n",
    "    return b_count > 0\n",
    "\n",
    "def is_language_abb(s):\n",
    "    return len(s) >= 3 and s[0] == 'a' and s[1] == 'b' and s[2] == 'b'\n",
    "\n",
    "def main():\n",
    "    user_input = input(\"Enter a string: \")\n",
    "\n",
    "    if is_language_a(user_input):\n",
    "        print(\"The string is in language 'a'\")\n",
    "    elif is_language_a_star_b_plus(user_input):\n",
    "        print(\"The string is in language 'a*b+'\")\n",
    "    elif is_language_abb(user_input):\n",
    "        print(\"The string is in language 'abb'\")\n",
    "    else:\n",
    "        print(\"The string is not in any of the languages\")\n",
    "\n",
    "if __name__ == \"__main__\":\n",
    "    main()\n"
   ]
  }
 ],
 "metadata": {
  "kernelspec": {
   "display_name": "Python 3",
   "language": "python",
   "name": "python3"
  },
  "language_info": {
   "codemirror_mode": {
    "name": "ipython",
    "version": 3
   },
   "file_extension": ".py",
   "mimetype": "text/x-python",
   "name": "python",
   "nbconvert_exporter": "python",
   "pygments_lexer": "ipython3",
   "version": "3.11.0"
  }
 },
 "nbformat": 4,
 "nbformat_minor": 2
}

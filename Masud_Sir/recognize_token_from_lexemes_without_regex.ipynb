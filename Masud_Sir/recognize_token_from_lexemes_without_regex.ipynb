{
 "cells": [
  {
   "cell_type": "code",
   "execution_count": null,
   "metadata": {},
   "outputs": [],
   "source": [
    "def recognize_tokens(lexeme):\n",
    "    # List of keywords in the language\n",
    "    keywords = ['if', 'else', 'while', 'for', 'int', 'float', 'return', 'def', 'class', 'import', 'from']\n",
    "    \n",
    "    # List of operators in the language\n",
    "    operators = ['+', '-', '*', '/', '%']\n",
    "\n",
    "    # List of punctuation symbols in the language\n",
    "    punctuation = [';', ',', '(', ')']\n",
    "\n",
    "    # Check if the lexeme is a valid identifier\n",
    "    if lexeme.isidentifier():\n",
    "        return 'IDENTIFIER'\n",
    "\n",
    "    # Check if the lexeme is a digit\n",
    "    elif lexeme.isdigit():\n",
    "        return 'INTEGER'\n",
    "\n",
    "    # Check if the lexeme is a valid float (contains a dot and the remaining characters are digits)\n",
    "    elif '.' in lexeme and lexeme.replace('.', '').isdigit():\n",
    "        return 'FLOAT'\n",
    "\n",
    "    # Check if the lexeme is one of the operators\n",
    "    elif lexeme in operators:\n",
    "        return 'OPERATOR'\n",
    "\n",
    "    # Check if the lexeme is one of the punctuation symbols\n",
    "    elif lexeme in punctuation:\n",
    "        return 'PUNCTUATION'\n",
    "\n",
    "    # Check if the lexeme is one of the keywords\n",
    "    elif lexeme in keywords:\n",
    "        return 'KEYWORD'\n",
    "\n",
    "    # If the lexeme doesn't match any recognized pattern, classify it as 'UNKNOWN'\n",
    "    else:\n",
    "        return 'UNKNOWN'\n",
    "\n",
    "if __name__ == \"__main__\":\n",
    "    user_input = input(\"Enter one lexeme: \")\n",
    "\n",
    "    # Recognize the token type for the given lexeme\n",
    "    token_type = recognize_tokens(user_input)\n",
    "\n",
    "    # Display the result\n",
    "    print(f\"The lexeme '{user_input}' represents a '{token_type}' token.\")\n"
   ]
  }
 ],
 "metadata": {
  "kernelspec": {
   "display_name": "Python 3",
   "language": "python",
   "name": "python3"
  },
  "language_info": {
   "codemirror_mode": {
    "name": "ipython",
    "version": 3
   },
   "file_extension": ".py",
   "mimetype": "text/x-python",
   "name": "python",
   "nbconvert_exporter": "python",
   "pygments_lexer": "ipython3",
   "version": "3.11.0"
  }
 },
 "nbformat": 4,
 "nbformat_minor": 2
}

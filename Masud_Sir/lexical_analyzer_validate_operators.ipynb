{
 "cells": [
  {
   "cell_type": "code",
   "execution_count": null,
   "metadata": {},
   "outputs": [],
   "source": [
    "import re\n",
    "\n",
    "def lexical_analyzer(input_string):\n",
    "    # Arithmetic Operators\n",
    "    arithmetic_operators = ['+', '-', '*', '/', '//', '%', '**']\n",
    "    # Assignment Operators\n",
    "    assignment_operators = ['=', '+=', '-=', '*=', '/=', '//=', '%=', '**=', '&=', '|=', '^=', '<<=', '>>=']\n",
    "    # Comparison Operators\n",
    "    comparison_operators = ['==', '!=', '<', '>', '<=', '>=']\n",
    "    # Logical Operators\n",
    "    logical_operators = ['and', 'or', 'not']\n",
    "    # Bitwise Operators\n",
    "    bitwise_operators = ['&', '|', '^', '~', '<<', '>>']\n",
    "    # Membership Operators\n",
    "    membership_operators = ['in', 'not in']\n",
    "    # Identity Operators\n",
    "    identity_operators = ['is', 'is not']\n",
    "\n",
    "    operators = arithmetic_operators + assignment_operators + comparison_operators + \\\n",
    "                logical_operators + bitwise_operators + membership_operators + \\\n",
    "                identity_operators\n",
    "\n",
    "\n",
    "    # Use regular expression to tokenize the input string\n",
    "    tokens = re.findall(r'\\b\\w+\\b|[\\+\\-\\*/=<>!]+', input_string)\n",
    "    print(tokens)\n",
    "\n",
    "    # Validate and print the operators\n",
    "    for token in tokens:\n",
    "        if token in operators:\n",
    "            print(f\"Valid operator: {token}\")\n",
    "        else:\n",
    "            print(f\"Invalid operator: {token}\")\n",
    "\n",
    "if __name__ == \"__main__\":\n",
    "    input_expr = input(\"Enter an expression with operators: \")\n",
    "    print(input_expr)\n",
    "\n",
    "    # Call the lexical analyzer function\n",
    "    lexical_analyzer(input_expr)\n"
   ]
  }
 ],
 "metadata": {
  "kernelspec": {
   "display_name": "Python 3",
   "language": "python",
   "name": "python3"
  },
  "language_info": {
   "codemirror_mode": {
    "name": "ipython",
    "version": 3
   },
   "file_extension": ".py",
   "mimetype": "text/x-python",
   "name": "python",
   "nbconvert_exporter": "python",
   "pygments_lexer": "ipython3",
   "version": "3.11.0"
  }
 },
 "nbformat": 4,
 "nbformat_minor": 2
}

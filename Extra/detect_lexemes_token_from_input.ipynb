{
 "cells": [
  {
   "cell_type": "code",
   "execution_count": null,
   "metadata": {},
   "outputs": [],
   "source": [
    "import re\n",
    "\n",
    "input_statement = \"position = initial + rate * 60\"\n",
    "print(input_statement)\n",
    "\n",
    "lexemes = re.findall(r'\\b\\w+\\b|[=+\\-*\\\\/();]', input_statement)\n",
    "\n",
    "print(\"Lexemes:\", lexemes)\n",
    "\n",
    "print()\n",
    "\n",
    "\n",
    "\n",
    "def token_identifier(expression):\n",
    "    keywords = [\"int\",\"if\",\"else\",\"while\",\"do\",\"break\",\"continue\",\"double\",\"float\",\"return\",\"char\",\"case\",\"sizeof\",\"long\",\"short\",\"typeof\",\"switch\",\"unsigned\",\"void\",\"static\",\"struct\",\"goto\"]\n",
    "    identifiers = []\n",
    "    constants = []\n",
    "    symbols = [\"=\", \"+\", \"-\", \"*\", \"/\", \"(\", \")\", \";\"]\n",
    "\n",
    "    tokens = re.findall(\"\\w+|\\d+|[=+\\-*\\\\/();]\", expression)\n",
    "    for token in tokens:\n",
    "        if token in keywords:\n",
    "            print(f\"{token} is a keyword\")\n",
    "        elif token in symbols:\n",
    "            print(f\"{token} is a symbol\")\n",
    "        elif token.isdigit():\n",
    "            print(f\"{token} is a constant\")\n",
    "        else:\n",
    "            if token[0].isdigit():\n",
    "                print(f\"{token} is not a valid identifier\")\n",
    "            else:\n",
    "                print(f\"{token} is an identifier\")\n",
    "\n",
    "input_string = \"int a = b + 10 c + 7\"\n",
    "print(input_string)\n",
    "token_identifier(input_string)\n"
   ]
  }
 ],
 "metadata": {
  "kernelspec": {
   "display_name": "Python 3",
   "language": "python",
   "name": "python3"
  },
  "language_info": {
   "codemirror_mode": {
    "name": "ipython",
    "version": 3
   },
   "file_extension": ".py",
   "mimetype": "text/x-python",
   "name": "python",
   "nbconvert_exporter": "python",
   "pygments_lexer": "ipython3",
   "version": "3.11.0"
  }
 },
 "nbformat": 4,
 "nbformat_minor": 2
}
